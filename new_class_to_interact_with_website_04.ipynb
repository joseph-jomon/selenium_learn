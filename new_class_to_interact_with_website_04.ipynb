{
 "cells": [
  {
   "cell_type": "markdown",
   "metadata": {},
   "source": []
  },
  {
   "cell_type": "code",
   "execution_count": null,
   "metadata": {},
   "outputs": [],
   "source": [
    "class BookingFiltrattion:\n",
    "    def __init__(self, driver, data):\n",
    "        self.data = data\n",
    "        self.filtered_data = []\n",
    "\n",
    "    def filter(self, filters):\n",
    "        for booking in self.data:\n",
    "            if self.__is_filtered(booking, filters):\n",
    "                self.filtered_data.append(booking)\n",
    "        return self.filtered_data\n",
    "\n",
    "    def __is_filtered(self, booking, filters):\n",
    "        for key, value in filters.items():\n",
    "            if key not in booking or booking[key] != value:\n",
    "                return False\n",
    "        return True"
   ]
  },
  {
   "cell_type": "markdown",
   "metadata": {},
   "source": [
    "# Important usage of \n",
    "def apply_filtrations(self):\n",
    "   filtration = BookingFiltration(drivers=self)"
   ]
  }
 ],
 "metadata": {
  "language_info": {
   "name": "python"
  }
 },
 "nbformat": 4,
 "nbformat_minor": 2
}
