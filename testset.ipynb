{
 "cells": [
  {
   "cell_type": "code",
   "execution_count": 1,
   "metadata": {},
   "outputs": [
    {
     "name": "stdout",
     "output_type": "stream",
     "text": [
      "hallo\n"
     ]
    }
   ],
   "source": [
    "print(\"hallo\")"
   ]
  },
  {
   "cell_type": "markdown",
   "metadata": {},
   "source": [
    "# Setting up a Selenium Environment\n",
    "This works too in case you need to get the drivers"
   ]
  },
  {
   "cell_type": "code",
   "execution_count": 4,
   "metadata": {},
   "outputs": [],
   "source": [
    "from selenium import webdriver\n",
    "from selenium.webdriver.common.keys import Keys\n",
    "import time\n",
    "driver = webdriver.Chrome()\n",
    "driver.get(\"https://www.google.com\")"
   ]
  },
  {
   "cell_type": "code",
   "execution_count": 3,
   "metadata": {},
   "outputs": [],
   "source": [
    "from selenium import webdriver\n",
    "from selenium.webdriver.common.keys import Keys\n",
    "import time\n",
    "import os\n",
    "os.environ[\"PATH\"] += os.pathsep + \"/usr/local/bin/chromedriver\"\n",
    "driver = webdriver.Chrome()\n",
    "driver.get(\"https://www.google.com\")"
   ]
  },
  {
   "cell_type": "markdown",
   "metadata": {},
   "source": [
    "# Some automation"
   ]
  },
  {
   "cell_type": "markdown",
   "metadata": {},
   "source": [
    "seleniumeasy.com/test/jquery-download-progress-bar-demo.html"
   ]
  },
  {
   "cell_type": "code",
   "execution_count": null,
   "metadata": {},
   "outputs": [],
   "source": [
    "driver.get(\"https://circabc.europa.eu/ui/welcome\")\n",
    "# Loading can take time \n",
    "driver.implicitly_wait(5 ) # time to wait for the page to load dont have to wait for the complete duration of time in case the page loads faster\n",
    "# you only need to call the driver.implicitly wait once and it will be applied to all the elements\n",
    "driver.find_element_by_id(\"username\").send_keys(\"username\")\n",
    "my_element = driver.find_element_by_id(\"password\")\n",
    "my_element.send_keys(\"password\")\n",
    "my_element.send_keys(Keys.RETURN)\n",
    "time.sleep(5)\n",
    "my_element.click()"
   ]
  },
  {
   "cell_type": "markdown",
   "metadata": {},
   "source": [
    "when down load is complete and we have a message in a pop up window"
   ]
  },
  {
   "cell_type": "markdown",
   "metadata": {},
   "source": [
    "## sowhing up the text directly after the download button has been clicked is probably not a good idea , because the text hast to be \"Completed\" not \"Downloaded\"\n",
    "for that we use explicit wait, with this we can make the program wait for an expected condition\n",
    "we need libraries for this we need the import like\n"
   ]
  },
  {
   "cell_type": "code",
   "execution_count": null,
   "metadata": {},
   "outputs": [],
   "source": [
    "from selenium.webdriver.common.by import By\n",
    "from selenium.webdriver.support.ui import WebDriverWait\n",
    "from selenium.webdriver.support import expected_conditions as EC "
   ]
  },
  {
   "cell_type": "code",
   "execution_count": null,
   "metadata": {},
   "outputs": [],
   "source": [
    "# Fininding elements by class name\n",
    "progress_element = driver.find_element_by_class_name(\"progress-bar\") # can identify elements by class name\n",
    "print(f\"progres_element.text: {progress_element.text == 'Completed!'}\")\n"
   ]
  },
  {
   "cell_type": "code",
   "execution_count": null,
   "metadata": {},
   "outputs": [],
   "source": [
    "WebDriverWait(driver, 10).until(\n",
    "    EC.text_to_be_present_in_element((By.CLASS_NAME, \"progress-bar\"), \"Completed!\") # wait for the text to be present in the element\n",
    ") # wait for the text to be present in the element"
   ]
  },
  {
   "cell_type": "markdown",
   "metadata": {},
   "source": [
    "How do we identify the element we have to check lets say a window showing text messages is "
   ]
  },
  {
   "cell_type": "code",
   "execution_count": null,
   "metadata": {},
   "outputs": [],
   "source": [
    "WebDriverWait(driver, 10).until(\n",
    "    #Element filtration\n",
    "    # The expected text create a tuple with the expected text and the actual text\n",
    "    EC.text_to_be_present_in_element((By.CLASS_NAME, \"progress-bar\"), \"Completed!\") # This is another way to find an element in a webpage ie by using the By class\n",
    "    # wait for the text to be present in the element\n",
    "    #  # wait for the element to be present\n",
    ") # wait for the element to be present"
   ]
  },
  {
   "cell_type": "markdown",
   "metadata": {},
   "source": [
    "# Usage of implicit and explicit waits\n",
    "# you can also check for different expected contitions to use for like element to be selected/opend\n",
    "# This is to wait till some condition is to be expected"
   ]
  },
  {
   "cell_type": "markdown",
   "metadata": {},
   "source": [
    "# We got the message of completed "
   ]
  },
  {
   "cell_type": "code",
   "execution_count": 5,
   "metadata": {},
   "outputs": [
    {
     "name": "stdout",
     "output_type": "stream",
     "text": [
      "Successfully clicked the button with selector: a.cta.cta--homepage\n"
     ]
    }
   ],
   "source": [
    "from selenium import webdriver\n",
    "from selenium.webdriver.common.by import By\n",
    "from selenium.webdriver.support.ui import WebDriverWait\n",
    "from selenium.webdriver.support import expected_conditions as EC\n",
    "from selenium.common.exceptions import TimeoutException, NoSuchElementException\n",
    "import time\n",
    "\n",
    "# --- Configuration ---\n",
    "# Replace with the actual path to your ChromeDriver executable\n",
    "CHROME_DRIVER_PATH = '/path/to/your/chromedriver'  \n",
    "# Replace with the URL of the page you want to test\n",
    "TARGET_URL = 'https://example.com'  # Replace with the actual URL\n",
    "# --- End Configuration ---\n",
    "\n",
    "def click_button_by_css_selector(driver, selector, timeout=10):\n",
    "    \"\"\"\n",
    "    Clicks a button identified by a CSS selector.\n",
    "\n",
    "    Args:\n",
    "        driver: The Selenium WebDriver instance.\n",
    "        selector: The CSS selector to locate the button.\n",
    "        timeout: The maximum time to wait for the button to be clickable (in seconds).\n",
    "    \"\"\"\n",
    "    try:\n",
    "        # Wait for the button to be clickable\n",
    "        button = WebDriverWait(driver, timeout).until(\n",
    "            EC.element_to_be_clickable((By.CSS_SELECTOR, selector))\n",
    "        )\n",
    "        # Click the button\n",
    "        button.click()\n",
    "        print(f\"Successfully clicked the button with selector: {selector}\")\n",
    "    except TimeoutException:\n",
    "        print(f\"Timeout: Button with selector '{selector}' was not clickable within {timeout} seconds.\")\n",
    "    except NoSuchElementException:\n",
    "        print(f\"Element not found: Button with selector '{selector}' was not found.\")\n",
    "    except Exception as e:\n",
    "        print(f\"An unexpected error occurred: {e}\")\n",
    "\n",
    "def main():\n",
    "    \"\"\"\n",
    "    Main function to set up the WebDriver, navigate to the page, and click the button.\n",
    "    \"\"\"\n",
    "    try:\n",
    "        # Set up the Chrome WebDriver\n",
    "        driver = webdriver.Chrome()\n",
    "\n",
    "        # Navigate to the target URL\n",
    "        driver.get(\"https://circabc.europa.eu/ui/welcome\")\n",
    "\n",
    "\n",
    "        # --- Locate and click the button ---\n",
    "        # Using the CSS selector for the button\n",
    "        button_selector = \"a.cta.cta--homepage\"\n",
    "        click_button_by_css_selector(driver, button_selector)\n",
    "\n",
    "        # --- Optional: Add a delay to observe the result ---\n",
    "        time.sleep(5)  # Wait for 5 seconds (adjust as needed)\n",
    "\n",
    "    except Exception as e:\n",
    "        print(f\"An error occurred during the test: {e}\")\n",
    "    finally:\n",
    "        # Close the browser\n",
    "        if 'driver' in locals() and driver:\n",
    "            driver.quit()\n",
    "\n",
    "if __name__ == \"__main__\":\n",
    "    main()"
   ]
  }
 ],
 "metadata": {
  "kernelspec": {
   "display_name": "selenv",
   "language": "python",
   "name": "python3"
  },
  "language_info": {
   "codemirror_mode": {
    "name": "ipython",
    "version": 3
   },
   "file_extension": ".py",
   "mimetype": "text/x-python",
   "name": "python",
   "nbconvert_exporter": "python",
   "pygments_lexer": "ipython3",
   "version": "3.12.2"
  }
 },
 "nbformat": 4,
 "nbformat_minor": 2
}
